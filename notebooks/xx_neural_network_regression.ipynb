{
  "nbformat": 4,
  "nbformat_minor": 0,
  "metadata": {
    "colab": {
      "provenance": [],
      "authorship_tag": "ABX9TyO9wpQnEKPdzuCaXPS2YDF0",
      "include_colab_link": true
    },
    "kernelspec": {
      "name": "python3",
      "display_name": "Python 3"
    },
    "language_info": {
      "name": "python"
    }
  },
  "cells": [
    {
      "cell_type": "markdown",
      "metadata": {
        "id": "view-in-github",
        "colab_type": "text"
      },
      "source": [
        "<a href=\"https://colab.research.google.com/github/machine-perception-robotics-group/JDLALectureNotebooks/blob/master/notebooks/xx_neural_network_regression.ipynb\" target=\"_parent\"><img src=\"https://colab.research.google.com/assets/colab-badge.svg\" alt=\"Open In Colab\"/></a>"
      ]
    },
    {
      "cell_type": "markdown",
      "source": [
        "# ニューラルネットワークによる回帰\n",
        "\n",
        "---\n",
        "\n",
        "## 目的\n",
        "\n",
        "多層パーセプトロンを用いて，糖尿病の進行度を予測する回帰を行う．\n",
        "\n",
        "\n",
        "## モジュールのインポート\n",
        "\n",
        "プログラムの実行に必要なモジュールをインポートします．"
      ],
      "metadata": {
        "id": "v_KUJsxeQWKy"
      }
    },
    {
      "cell_type": "code",
      "execution_count": null,
      "metadata": {
        "id": "lcgwme_hQETb"
      },
      "outputs": [],
      "source": [
        "from sklearn import datasets\n",
        "\n",
        "import torch\n",
        "import torch.nn as nn\n",
        "import torch.optim as optim\n"
      ]
    },
    {
      "cell_type": "markdown",
      "source": [
        "## データセットの読み込み\n",
        "\n",
        "実験に使用するデータセットを読み込みます．\n",
        "\n",
        "今回は**Diabetes Dataset**を用いて回帰を行います．\n",
        "Diabetes Datasetは，糖尿病患者の一年後の進行度を予測するデータセットです．\n",
        "\n",
        "説明変数となる特徴量は，年齢，性別，BMI，平均血圧などの計10個の数値から構成されており，目的変数はベースラインとなる測定時から1年後の糖尿病の進行度を示す数値となっています．\n",
        "\n",
        "今回は，scikit-learnで用意されているデータセットクラスからDiabetes Datasetを呼び出して使用します．\n",
        "\n"
      ],
      "metadata": {
        "id": "1ui6gbrdRwca"
      }
    },
    {
      "cell_type": "code",
      "source": [
        "# データセットの読み込み\n",
        "diabetes_X, diabetes_y = datasets.load_diabetes(return_X_y=True)\n",
        "\n",
        "# データ（配列）の確認\n",
        "print(type(diabetes_X))\n",
        "print(type(diabetes_y))\n",
        "print(diabetes_X.shape)\n",
        "print(diabetes_y.shape)\n",
        "\n",
        "print(diabetes_X[0])\n",
        "print(diabetes_y[0])"
      ],
      "metadata": {
        "id": "kzO_FR8RRvOu"
      },
      "execution_count": null,
      "outputs": []
    },
    {
      "cell_type": "markdown",
      "source": [
        "## データセットクラスの構築\n",
        "\n",
        "上記のDiabetes Datasetを用いて，PyTorchのNeural Networkを学習できるよう，データセットクラスを構築します．"
      ],
      "metadata": {
        "id": "bGRxu3f-TCCf"
      }
    },
    {
      "cell_type": "code",
      "source": [
        "class DiabetesDataset(torch.utils.data.Dataset):\n",
        "\n",
        "    def __init__(self, train=True):\n",
        "        self.n_train =350\n",
        "        self.n_test = 92\n",
        "\n",
        "        self.train =train\n",
        "\n",
        "        self.X, self.y = datasets.load_diabetes(return_X_y=True)\n",
        "        self.X = torch.tensor(self.X, dtype=torch.float32)\n",
        "        self.y = torch.tensor(self.y, dtype=torch.float32)\n",
        "\n",
        "        if self.train:\n",
        "            self.X = self.X[:self.n_train]\n",
        "            self.y = self.y[:self.n_train]\n",
        "        else:\n",
        "            self.X = self.X[self.n_train:]\n",
        "            self.y = self.y[self.n_train:]\n",
        "\n",
        "    def __getitem__(self, index):\n",
        "        return self.X[index], self.y[index] / 346.0\n",
        "\n",
        "    def __len__(self):\n",
        "        return len(self.X)"
      ],
      "metadata": {
        "id": "VAeRU094Sz3F"
      },
      "execution_count": null,
      "outputs": []
    },
    {
      "cell_type": "markdown",
      "source": [
        "## ネットワークモデルの定義\n",
        "\n",
        "次に，ニューラルネットワークを定義します．\n",
        "ここでは，PyTorchを使用して多層パーセプトロンを構築します．"
      ],
      "metadata": {
        "id": "OwdC2NKNT9Jq"
      }
    },
    {
      "cell_type": "code",
      "source": [
        "class MLP(nn.Module):\n",
        "  def __init__(self, n_hidden):\n",
        "    super().__init__()\n",
        "    self.l1=nn.Linear(10, n_hidden)\n",
        "    self.l2=nn.Linear(n_hidden, n_hidden)\n",
        "    self.l3=nn.Linear(n_hidden,1)\n",
        "\n",
        "  def forward(self, x):\n",
        "    x = self.l1(x)\n",
        "    x = torch.relu(x)\n",
        "    x = self.l2(x)\n",
        "    x = torch.relu(x)\n",
        "    x = self.l3(x)\n",
        "    return x"
      ],
      "metadata": {
        "id": "hY1Q4B3OU2Se"
      },
      "execution_count": null,
      "outputs": []
    },
    {
      "cell_type": "markdown",
      "source": [
        "## 学習\n",
        "\n",
        "上で定義したデータセットクラスとネットワークモデルを使用して学習します．\n",
        "\n",
        "誤差関数にはMSE LossとMAE Loss（nn.L1Loss）を準備します．"
      ],
      "metadata": {
        "id": "hP13E-P8U9lL"
      }
    },
    {
      "cell_type": "code",
      "source": [
        "# prompt: 学習プログラムを書いてください\n",
        "\n",
        "# ハイパーパラメータの設定\n",
        "n_hidden = 128\n",
        "epochs = 100\n",
        "batch_size = 10\n",
        "\n",
        "# データセットの読み込み\n",
        "train_dataset = DiabetesDataset(train=True)\n",
        "test_dataset = DiabetesDataset(train=False)\n",
        "\n",
        "# データローダーの設定\n",
        "train_dataloader = torch.utils.data.DataLoader(train_dataset, batch_size=batch_size, shuffle=True)\n",
        "test_dataloader = torch.utils.data.DataLoader(test_dataset, batch_size=batch_size, shuffle=False)\n",
        "\n",
        "# モデルの定義\n",
        "model = MLP(n_hidden)\n",
        "\n",
        "# オプティマイザーの定義\n",
        "optimizer = optim.Adam(model.parameters())\n",
        "\n",
        "# 損失関数の定義\n",
        "criterion = nn.MSELoss() # MSE Loss\n",
        "# criterion = nn.L1Loss()  # MAE Loss\n",
        "\n",
        "# 学習ループ\n",
        "for epoch in range(1, epochs+1):\n",
        "  # 訓練モード\n",
        "  model.train()\n",
        "\n",
        "  # ミニバッチ学習\n",
        "  for x, y in train_dataloader:\n",
        "    # 勾配の初期化\n",
        "    optimizer.zero_grad()\n",
        "\n",
        "    output = model(x)\n",
        "    loss = criterion(output, y)\n",
        "\n",
        "    # 勾配の計算\n",
        "    loss.backward()\n",
        "    optimizer.step()\n",
        "\n",
        "  # 評価モード\n",
        "  model.eval()\n",
        "\n",
        "  # テストデータでの損失の計算\n",
        "  with torch.no_grad():\n",
        "    test_loss = 0\n",
        "    for x, y in test_dataloader:\n",
        "      output = model(x)\n",
        "      test_loss += criterion(output, y).item()\n",
        "\n",
        "  # 損失の出力\n",
        "  if epoch % 10 == 0:\n",
        "    print(f\"Epoch: {epoch}, Loss: {loss.item():.4f}, Test Loss: {test_loss:.4f}\")"
      ],
      "metadata": {
        "id": "qFdDYpk_VQ96"
      },
      "execution_count": null,
      "outputs": []
    }
  ]
}