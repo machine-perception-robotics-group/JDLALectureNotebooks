{
  "cells": [
    {
      "cell_type": "markdown",
      "metadata": {
        "id": "oALYrJt1uoU9"
      },
      "source": [
        "# Dropout（CIFAR10を用いた物体認識）\n",
        "\n",
        "---\n",
        "## 目的\n",
        "畳み込みニューラルネットワーク (Convolutional Neural Network; CNN) を用いてCIFAR10データセットに対する物体認識を行う．\n",
        "その際，Dropoutを用いることで，認識性能がどのように変化するかを確認する．\n",
        "\n",
        "この演習では，深層学習のフレームワークであるPyTorchを用いて，実習を行う．\n",
        "\n",
        "## 対応するチャプター\n",
        "* 7.12: ドロップアウト\n",
        "* 8.1.3: バッチアルゴリズムとミニバッチアルゴリズム\n",
        "* 8.3.1: 確率的勾配降下法\n",
        "* 9.1: 畳み込み処理\n",
        "* 9.3: プーリング\n",
        "* その他: Dropconnect\n",
        "\n",
        "\n",
        "## モジュールのインポート\n",
        "プログラムの実行に必要なモジュールをインポートします．\n",
        "実験にはこれまでに使用したNumpyに加えて，深層学習ライブラリであるPyTorchを使用します．\n",
        "使用するクラス，関数は以下の通りです．\n",
        "\n",
        "* `numpy`（説明は割愛）\n",
        "* `torch`は深層学習を使用するためのPythonライブラリ\n",
        "* `torchvision`はtorch上で使用する画像認識のデータセットやネットワークモデルを呼び出すためのライブラリ"
      ]
    },
    {
      "cell_type": "code",
      "execution_count": null,
      "metadata": {
        "id": "YKUdRpCZuoVB"
      },
      "outputs": [],
      "source": [
        "# モジュールのインポート\n",
        "from time import time\n",
        "import numpy as np\n",
        "import torch\n",
        "import torch.nn as nn\n",
        "import torch.nn.functional as F\n",
        "\n",
        "import torchvision\n",
        "import torchvision.transforms as transforms"
      ]
    },
    {
      "cell_type": "markdown",
      "metadata": {
        "id": "jxeBqRNOuoVD"
      },
      "source": [
        "## GPUの確認\n",
        "GPUを使用した計算が可能かどうかを確認します．\n",
        "\n",
        "`Use CUDA: True`と表示されれば，GPUを使用した計算をPyTorchで行うことが可能です．\n",
        "Falseとなっている場合は，上記の「Google Colaboratoryの設定確認・変更」に記載している手順にしたがって，設定を変更した後に，モジュールのインポートから始めてください．"
      ]
    },
    {
      "cell_type": "code",
      "execution_count": null,
      "metadata": {
        "id": "VJw_FSm0uoVD"
      },
      "outputs": [],
      "source": [
        "use_cuda = torch.cuda.is_available()\n",
        "print('Use CUDA:', use_cuda)"
      ]
    },
    {
      "cell_type": "markdown",
      "metadata": {
        "id": "oWMgV_-iuoVD"
      },
      "source": [
        "## データセットの読み込み\n",
        "CIFAR10データセットを読み込みます．\n",
        "\n",
        "読み込んだ学習データのサイズを確認します．\n",
        "学習データは5万枚，1つのデータサイズは3x32x32の画像のような形式となっています．\n",
        "これは32x32ピクセルのカラー画像という意味になります．"
      ]
    },
    {
      "cell_type": "code",
      "execution_count": null,
      "metadata": {
        "id": "HVCrqD3ruoVD"
      },
      "outputs": [],
      "source": [
        "train_data = torchvision.datasets.CIFAR10(root=\"./\", train=True, transform=transforms.ToTensor(), download=True)\n",
        "test_data = torchvision.datasets.CIFAR10(root=\"./\", train=False, transform=transforms.ToTensor(), download=True)\n",
        "\n",
        "print(train_data)\n",
        "print(test_data)"
      ]
    },
    {
      "cell_type": "markdown",
      "metadata": {
        "id": "LKi4gTk8vlxe"
      },
      "source": [
        "### CIFAR10データセットの表示\n",
        "CIFAR10データセットに含まれる画像を表示してみます．\n",
        "ここでは，matplotlibを用いて複数の画像を表示させるプログラムを利用します．"
      ]
    },
    {
      "cell_type": "code",
      "execution_count": null,
      "metadata": {
        "id": "sI33R2gVvl2P",
        "tags": []
      },
      "outputs": [],
      "source": [
        "import matplotlib.pyplot as plt\n",
        "\n",
        "cols = 10\n",
        "rows = 2\n",
        "\n",
        "plt.clf()\n",
        "fig = plt.figure(figsize=(14, 4.8))\n",
        "for r in range(rows):\n",
        "    for c in range(cols):\n",
        "        ax = fig.add_subplot(r+1, cols, c+1)\n",
        "        ax.imshow(train_data[c+r*cols][0].permute(1, 2, 0))\n",
        "        ax.set_axis_off()\n",
        "plt.show()"
      ]
    },
    {
      "cell_type": "markdown",
      "source": [
        "## DropConnectの実装\n",
        "\n",
        "DropConnectはエッジ（重み）を削除することで，学習に対する正則化の効果を促します．\n",
        "\n",
        "DropoutはPyTorchに実装されていますが，DropConnectはフレームワーク内に存在しません．\n",
        "そのため，DropConnectを手動で実装します．\n",
        "\n"
      ],
      "metadata": {
        "id": "4P3lZc0uu1K4"
      }
    },
    {
      "cell_type": "code",
      "source": [
        "class DropConnect(nn.Module):\n",
        "    def __init__(self, layer, drop_prob):\n",
        "        super(DropConnect, self).__init__()\n",
        "        self.layer = layer\n",
        "        self.drop_prob = drop_prob\n",
        "\n",
        "    def forward(self, x):\n",
        "        if self.training:\n",
        "            weight = self.layer.weight\n",
        "            mask = torch.bernoulli(torch.ones_like(weight) * (1 - self.drop_prob))\n",
        "            weight = weight * mask\n",
        "            return F.linear(x, weight, self.layer.bias)\n",
        "        else:\n",
        "            return self.layer(x)"
      ],
      "metadata": {
        "id": "0AEwIwJFu1Q8"
      },
      "execution_count": null,
      "outputs": []
    },
    {
      "cell_type": "markdown",
      "metadata": {
        "id": "xgDd3iX2zmSV"
      },
      "source": [
        "## ネットワークモデルの定義\n",
        "畳み込みニューラルネットワークを定義します．\n",
        "\n",
        "ここでは，畳み込み層2層，全結合層3層から構成されるネットワークとします．\n",
        "\n",
        "1層目の畳み込み層は入力チャンネル数が1，出力する特徴マップ数が16，畳み込むフィルタサイズが3x3です．\n",
        "2層目の畳み込み層は入力チャネル数が16，出力する特徴マップ数が32，畳み込むフィルタサイズは同じく3x3です．\n",
        "1つ目の全結合層は入力ユニット数は特徴マップのサイズから，`8*8*32`とし，出力は1024としています．\n",
        "次の全結合層入力，出力共に1024，出力層は入力が1024，出力が10です．\n",
        "また，ネットワーク内で使用する活性化関数を`self.act`に，プーリングを`self.pool`に設定します．\n",
        "そして，全結合層部分で使用するDropoutをそれぞれ，`self.d_out1`, `self.d_out2`に設定します．\n",
        "この時の`p`はDropout率を表し結合を削除する割合を決定します．\n",
        "これらの各層の構成を`__init__`関数で定義します．\n",
        "\n",
        "次に，`forward`関数では，定義した層を接続して処理するように記述します．\n",
        "`forward`関数の引数`x`は入力データです．\n",
        "それを`__init__`関数で定義した`conv1`に与え，その出力を活性化関数である`act`関数に与えます．\n",
        "そして，その出力を`pool`に入力して，プーリング処理結果を`h`として出力します．\n",
        "`h`は`conv2`に与えられて畳み込み処理とプーリング処理を行います．\n",
        "そして，出力`h`を`l1`に与えて全結合層の処理を行います．\n",
        "この全結合層部分で，Dropoutを適用します．\n",
        "最終的に`l3`の全結合層の処理を行った出力`h`を戻り値としています．"
      ]
    },
    {
      "cell_type": "code",
      "execution_count": null,
      "metadata": {
        "id": "TNHnp_YczmY3"
      },
      "outputs": [],
      "source": [
        "class CNN(nn.Module):\n",
        "    def __init__(self, p=0.5):\n",
        "        super().__init__()\n",
        "        self.conv1 = nn.Conv2d(3, 16, kernel_size=3, stride=1, padding=1)\n",
        "        self.conv2 = nn.Conv2d(16, 32, kernel_size=3, stride=1, padding=1)\n",
        "        self.l1 = nn.Linear(8 * 8 * 32, 1024)\n",
        "        self.l2 = nn.Linear(1024, 1024)\n",
        "        self.l3 = nn.Linear(1024, 10)\n",
        "        self.act = nn.ReLU()\n",
        "        self.pool = nn.MaxPool2d(2, 2)\n",
        "        self.d_out1 = nn.Dropout(p=p)\n",
        "        self.d_out2 = nn.Dropout(p=p)\n",
        "\n",
        "    def forward(self, x):\n",
        "        h = self.pool(self.act(self.conv1(x)))\n",
        "        h = self.pool(self.act(self.conv2(h)))\n",
        "        h = h.view(h.size()[0], -1)\n",
        "        h = self.d_out1(self.act(self.l1(h)))\n",
        "        h = self.d_out2(self.act(self.l2(h)))\n",
        "        h = self.l3(h)\n",
        "        return h"
      ]
    },
    {
      "cell_type": "markdown",
      "source": [
        "### DropConnectを用いたネットワークの実装"
      ],
      "metadata": {
        "id": "lyrDyIAfvtF1"
      }
    },
    {
      "cell_type": "code",
      "source": [
        "class CNN_DropConnect(nn.Module):\n",
        "    def __init__(self, p=0.5):\n",
        "        super().__init__()\n",
        "        self.conv1 = nn.Conv2d(3, 16, kernel_size=3, stride=1, padding=1)\n",
        "        self.conv2 = nn.Conv2d(16, 32, kernel_size=3, stride=1, padding=1)\n",
        "        self.l1 = DropConnect(nn.Linear(8 * 8 * 32, 1024), drop_prob=p)\n",
        "        self.l2 = DropConnect(nn.Linear(1024, 1024), drop_prob=p)\n",
        "        self.l3 = nn.Linear(1024, 10)\n",
        "        self.act = nn.ReLU()\n",
        "        self.pool = nn.MaxPool2d(2, 2)\n",
        "\n",
        "    def forward(self, x):\n",
        "        h = self.pool(self.act(self.conv1(x)))\n",
        "        h = self.pool(self.act(self.conv2(h)))\n",
        "        h = h.view(h.size()[0], -1)\n",
        "        h = self.act(self.l1(h))\n",
        "        h = self.act(self.l2(h))\n",
        "        h = self.l3(h)\n",
        "        return h"
      ],
      "metadata": {
        "id": "-bR4gYZsvtLM"
      },
      "execution_count": null,
      "outputs": []
    },
    {
      "cell_type": "markdown",
      "metadata": {
        "id": "8Dwuvfouzmd7"
      },
      "source": [
        "## ネットワークの作成\n",
        "上のプログラムで定義したネットワークを作成します．\n",
        "まず，学習時に使用するDropout率を設定し，その値を用いてネットワークモデルを作成します．\n",
        "\n",
        "\n",
        "ここでは，GPUを用いた計算が可能な場合には，modelをGPUで計算するように設定する`cuda()`関数を利用しています．\n",
        "\n",
        "学習を行う際の最適化方法としてモーメンタムSGD(モーメンタム付き確率的勾配降下法）を利用します．\n",
        "引数として，学習するネットワークのパラメータ，学習率，モーメンタムを設定します．"
      ]
    },
    {
      "cell_type": "code",
      "execution_count": null,
      "metadata": {
        "id": "23m79Eq-zmjl",
        "tags": []
      },
      "outputs": [],
      "source": [
        "# ドロップアウト率pを設定\n",
        "p = 0.5\n",
        "\n",
        "model = CNN(p=p)\n",
        "# model = CNN_DropConnect(p=p)\n",
        "if use_cuda:\n",
        "    model.cuda()\n",
        "\n",
        "optimizer = torch.optim.SGD(model.parameters(), lr=0.01, momentum=0.9)"
      ]
    },
    {
      "cell_type": "markdown",
      "metadata": {
        "id": "MUNa9Xe79vAG"
      },
      "source": [
        "## 学習\n",
        "１回の誤差を算出するデータ数（ミニバッチサイズ）を64，学習エポック数を10とします．\n",
        "CIFAR10の学習データサイズを取得し，1エポック内における更新回数を求めます．\n",
        "\n",
        "次にデータローダーを定義します．\n",
        "データローダーでは，上で読み込んだデータセット（`train_data`）を用いて，for文で指定したミニバッチサイズでデータを読み込むオブジェクトを作成します．\n",
        "この時，`shuffle=True`と設定することで，読み込むデータを毎回ランダムに指定します．\n",
        "\n",
        "\n",
        "次に，誤差関数を設定します．\n",
        "今回は，分類問題をあつかうため，クロスエントロピー誤差を計算するための`CrossEntropyLoss`を`criterion`として定義します．\n",
        "\n",
        "学習を開始します．\n",
        "\n",
        "学習を始める前に，`model.train()`を実行することで，ネットワークの演算を学習モードへ変更します．\n",
        "学習モードへ変更することで，ネットワーク内の演算のうち，学習とテストで挙動が変化する演算を一括で変更することが可能です．\n",
        "今回のネットワークではDropoutが該当し，学習モードの場合はDropoutが適用され，評価モード（詳細は後ほど紹介します）では，Dropoutによる結合の削除を行わずに推論を行うことが可能です．\n",
        "\n",
        "各更新において，学習用データと教師データをそれぞれ`image`と`label`とします．\n",
        "学習モデルにimageを与えて各クラスの確率yを取得します．\n",
        "各クラスの確率yと教師ラベルtとの誤差を`criterion`で算出します．\n",
        "また，認識精度も算出します．\n",
        "そして，誤差をbackward関数で逆伝播し，step関数ネットワークの更新を行います．"
      ]
    },
    {
      "cell_type": "code",
      "execution_count": null,
      "metadata": {
        "id": "68RE3RTa76-W"
      },
      "outputs": [],
      "source": [
        "# ミニバッチサイズ・エポック数の設定\n",
        "batch_size = 64\n",
        "epoch_num = 10\n",
        "n_iter = len(train_data) / batch_size\n",
        "\n",
        "# データローダーの設定\n",
        "train_loader = torch.utils.data.DataLoader(train_data, batch_size=batch_size, shuffle=True)\n",
        "\n",
        "# 誤差関数の設定\n",
        "criterion = nn.CrossEntropyLoss()\n",
        "if use_cuda:\n",
        "    criterion.cuda()\n",
        "\n",
        "# ネットワークを学習モードへ変更\n",
        "model.train()\n",
        "\n",
        "start = time()\n",
        "for epoch in range(1, epoch_num+1):\n",
        "    sum_loss = 0.0\n",
        "    count = 0\n",
        "\n",
        "    for image, label in train_loader:\n",
        "\n",
        "        if use_cuda:\n",
        "            image = image.cuda()\n",
        "            label = label.cuda()\n",
        "\n",
        "        y = model(image)\n",
        "\n",
        "        loss = criterion(y, label)\n",
        "\n",
        "        model.zero_grad()\n",
        "        loss.backward()\n",
        "        optimizer.step()\n",
        "\n",
        "        sum_loss += loss.item()\n",
        "\n",
        "        pred = torch.argmax(y, dim=1)\n",
        "        count += torch.sum(pred == label)\n",
        "\n",
        "    print(\"epoch: {}, mean loss: {}, mean accuracy: {}, elapsed_time :{}\".format(epoch,\n",
        "                                                                                 sum_loss / n_iter,\n",
        "                                                                                 count.item() / len(train_data),\n",
        "                                                                                 time() - start))"
      ]
    },
    {
      "cell_type": "markdown",
      "metadata": {
        "id": "119eIrSmzmw6"
      },
      "source": [
        "## テスト\n",
        "学習したネットワークモデルを用いて評価を行います．\n",
        "\n",
        "ここで，`model.eval()`を実行することで，ネットワークを評価モードへ変更し，Dropoutの処理を行わないようにすることが可能です．"
      ]
    },
    {
      "cell_type": "code",
      "execution_count": null,
      "metadata": {
        "id": "yoYVMRGLzm1I"
      },
      "outputs": [],
      "source": [
        "# データローダーの準備\n",
        "test_loader = torch.utils.data.DataLoader(test_data, batch_size=100, shuffle=False)\n",
        "\n",
        "# ネットワークを評価モードへ変更\n",
        "model.eval()\n",
        "\n",
        "# 評価の実行\n",
        "count = 0\n",
        "with torch.no_grad():\n",
        "    for image, label in test_loader:\n",
        "\n",
        "        if use_cuda:\n",
        "            image = image.cuda()\n",
        "            label = label.cuda()\n",
        "\n",
        "        y = model(image)\n",
        "\n",
        "        pred = torch.argmax(y, dim=1)\n",
        "        count += torch.sum(pred == label)\n",
        "\n",
        "print(\"test accuracy: {}\".format(count.item() / 10000.))"
      ]
    },
    {
      "cell_type": "markdown",
      "metadata": {
        "id": "4kojeKVnuoVG"
      },
      "source": [
        "## 課題\n",
        "1. ドロップアウト率やドロップアウトを適用する層を変更して，認識精度の変化を確認しましょう"
      ]
    }
  ],
  "metadata": {
    "kernelspec": {
      "display_name": "Python 3",
      "language": "python",
      "name": "python3"
    },
    "language_info": {
      "codemirror_mode": {
        "name": "ipython",
        "version": 3
      },
      "file_extension": ".py",
      "mimetype": "text/x-python",
      "name": "python",
      "nbconvert_exporter": "python",
      "pygments_lexer": "ipython3",
      "version": "3.7.9"
    },
    "colab": {
      "provenance": [],
      "toc_visible": true
    }
  },
  "nbformat": 4,
  "nbformat_minor": 0
}