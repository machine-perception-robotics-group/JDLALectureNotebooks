{
  "nbformat": 4,
  "nbformat_minor": 0,
  "metadata": {
    "colab": {
      "provenance": [],
      "authorship_tag": "ABX9TyOdIW0QnjGWjzVphVO8vBwM",
      "include_colab_link": true
    },
    "kernelspec": {
      "name": "python3",
      "display_name": "Python 3"
    },
    "language_info": {
      "name": "python"
    }
  },
  "cells": [
    {
      "cell_type": "markdown",
      "metadata": {
        "id": "view-in-github",
        "colab_type": "text"
      },
      "source": [
        "<a href=\"https://colab.research.google.com/github/machine-perception-robotics-group/JDLALectureNotebooks/blob/master/notebooks/xx_ordinal_regression.ipynb\" target=\"_parent\"><img src=\"https://colab.research.google.com/assets/colab-badge.svg\" alt=\"Open In Colab\"/></a>"
      ]
    },
    {
      "cell_type": "markdown",
      "source": [
        "# ニューラルネットワークによる順序回帰\n",
        "\n",
        "---\n",
        "\n",
        "## 目的\n",
        "\n",
        "ニューラルネットワークを使用して，順序回帰問題を解く．\n",
        "\n",
        "## モジュールのインポート\n",
        "\n",
        "プログラムの実行に必要なモジュールをインポートします．\n"
      ],
      "metadata": {
        "id": "YNro4lazxQlU"
      }
    },
    {
      "cell_type": "code",
      "source": [
        "import torch\n",
        "import torch.nn as nn\n",
        "import torch.optim as optim\n",
        "from torch.utils.data import Dataset, DataLoader\n",
        "\n",
        "import csv"
      ],
      "metadata": {
        "id": "oJC3H6m_0yQ7"
      },
      "execution_count": null,
      "outputs": []
    },
    {
      "cell_type": "markdown",
      "source": [
        "## データセットのダウンロード\n",
        "\n",
        "今回使用するデータセットはWine Quarity Datasetです．\n",
        "\n",
        "このデータセットのファイルをダウンロードし，zipファイルを解凍します．\n",
        "\n",
        "[Wine Quality Dataset](https://archive.ics.uci.edu/dataset/186/wine+quality)"
      ],
      "metadata": {
        "id": "grSYa82Fxk_k"
      }
    },
    {
      "cell_type": "code",
      "source": [
        "import gdown\n",
        "gdown.download('https://drive.google.com/uc?id=1vq_HOkwUl9D3SM4aXRcnevBYw3_ZcjJ7', 'WineQT.zip', quiet=False)\n",
        "! unzip -q WineQT.zip"
      ],
      "metadata": {
        "id": "rNFEuhC5xlRw"
      },
      "execution_count": null,
      "outputs": []
    },
    {
      "cell_type": "markdown",
      "source": [
        "CSVファイルの中身を確認してみます．\n",
        "\n"
      ],
      "metadata": {
        "id": "OvkMzpk8yVhq"
      }
    },
    {
      "cell_type": "code",
      "source": [
        "with open(\"WineQT.csv\", \"r\") as f:\n",
        "    reader = csv.reader(f)\n",
        "    for i, row in enumerate(reader):\n",
        "        print(row)\n",
        "        if i > 3:\n",
        "            break"
      ],
      "metadata": {
        "id": "eEjgMPtsyVnt"
      },
      "execution_count": null,
      "outputs": []
    },
    {
      "cell_type": "markdown",
      "source": [
        "これを踏まえて，データセットクラスを作成します．"
      ],
      "metadata": {
        "id": "JbOOvftK0_VU"
      }
    },
    {
      "cell_type": "code",
      "source": [
        "class WineDataset(Dataset):\n",
        "  def __init__(self, filepath):\n",
        "    self.data = []\n",
        "    self.label = []\n",
        "    with open(filepath, \"r\") as f:\n",
        "      reader = csv.reader(f)\n",
        "      next(reader)  # header をスキップ\n",
        "      for row in reader:\n",
        "        self.data.append([float(cell) for cell in row[:-2]])  # 最後の列以外を特徴量として扱う\n",
        "        self.label.append(int(row[-2]))  # 最後から2番目の列をラベルとして扱う．\n",
        "\n",
        "  def __len__(self):\n",
        "    return len(self.data)\n",
        "\n",
        "  def __getitem__(self, idx):\n",
        "    data = torch.tensor(self.data[idx], dtype=torch.float32)\n",
        "    label = torch.tensor(self.label[idx], dtype=torch.long)\n",
        "    return data, label"
      ],
      "metadata": {
        "id": "dK5rFcupWTaM"
      },
      "execution_count": null,
      "outputs": []
    },
    {
      "cell_type": "markdown",
      "source": [
        "## ネットワーククラスの作成\n",
        "\n",
        "ここでは全結合層からなるニューラルネットワークを作成します．"
      ],
      "metadata": {
        "id": "dqJRdyHY2KXG"
      }
    },
    {
      "cell_type": "code",
      "source": [
        "class MLP(nn.Module):\n",
        "    def __init__(self, input_dim, output_dim):\n",
        "        super(MLP, self).__init__()\n",
        "\n",
        "        self.l1 = nn.Linear(input_dim, 128)\n",
        "        self.l2 = nn.Linear(128, 64)\n",
        "        self.l3 = nn.Linear(64, output_dim)\n",
        "        self.relu = nn.ReLU()\n",
        "\n",
        "    def forward(self, x):\n",
        "        x = self.l1(x)\n",
        "        x = self.relu(x)\n",
        "        x = self.l2(x)\n",
        "        x = self.relu(x)\n",
        "        x = self.l3(x)\n",
        "        return x"
      ],
      "metadata": {
        "id": "7F_ShMTX2Q0c"
      },
      "execution_count": null,
      "outputs": []
    },
    {
      "cell_type": "markdown",
      "source": [
        "## 学習\n",
        "\n",
        "ネットワークを学習します．"
      ],
      "metadata": {
        "id": "6UlKLSVV2fER"
      }
    },
    {
      "cell_type": "code",
      "source": [
        "# データセット，データローダーの作成\n",
        "train_dataset = WineDataset(\"WineQT.csv\")\n",
        "train_dataloader = DataLoader(train_dataset, batch_size=32, shuffle=True)\n",
        "\n",
        "# モデル，損失関数，最適化関数の作成\n",
        "model = MLP(input_dim=11, output_dim=10)\n",
        "criterion = nn.CrossEntropyLoss()\n",
        "optimizer = optim.Adam(model.parameters(), lr=0.001)\n",
        "\n",
        "# 学習\n",
        "num_epochs = 10\n",
        "for epoch in range(num_epochs):\n",
        "  running_loss = 0.0\n",
        "  for i, (data, labels) in enumerate(train_dataloader):\n",
        "    optimizer.zero_grad()\n",
        "    outputs = model(data)\n",
        "    loss = criterion(outputs, labels)\n",
        "    loss.backward()\n",
        "    optimizer.step()\n",
        "\n",
        "    running_loss += loss.item()\n",
        "\n",
        "  print(f\"Epoch {epoch+1}/{num_epochs}, Loss: {running_loss/len(train_dataloader)}\")"
      ],
      "metadata": {
        "id": "EuG-xgxmWl-3"
      },
      "execution_count": null,
      "outputs": []
    }
  ]
}