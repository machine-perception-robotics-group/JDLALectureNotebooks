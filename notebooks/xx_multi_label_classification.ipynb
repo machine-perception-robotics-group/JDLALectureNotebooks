{
  "nbformat": 4,
  "nbformat_minor": 0,
  "metadata": {
    "colab": {
      "provenance": [],
      "authorship_tag": "ABX9TyMckF6wU0wLr23yUdVFrKLa",
      "include_colab_link": true
    },
    "kernelspec": {
      "name": "python3",
      "display_name": "Python 3"
    },
    "language_info": {
      "name": "python"
    }
  },
  "cells": [
    {
      "cell_type": "markdown",
      "metadata": {
        "id": "view-in-github",
        "colab_type": "text"
      },
      "source": [
        "<a href=\"https://colab.research.google.com/github/machine-perception-robotics-group/JDLALectureNotebooks/blob/master/notebooks/xx_multi_label_classification.ipynb\" target=\"_parent\"><img src=\"https://colab.research.google.com/assets/colab-badge.svg\" alt=\"Open In Colab\"/></a>"
      ]
    },
    {
      "cell_type": "markdown",
      "source": [
        "# ニューラルネットワークによるマルチラベル分類\n",
        "\n",
        " ---\n",
        "\n",
        " ## 目的\n",
        "\n",
        " ニューラルネットワークを使用して，マルチラベル画像分類を行う．\n",
        "\n",
        " # モジュールのインポート\n",
        "\n",
        " プログラムの実行に必要なモジュールをインポートします．"
      ],
      "metadata": {
        "id": "M7NlQJOryien"
      }
    },
    {
      "cell_type": "code",
      "execution_count": null,
      "metadata": {
        "id": "TPJzN2s4yfDS"
      },
      "outputs": [],
      "source": [
        "import os\n",
        "from PIL import Image\n",
        "\n",
        "import torch\n",
        "import torch.nn as nn\n",
        "\n",
        "from torchvision import transforms\n",
        "\n",
        "import csv"
      ]
    },
    {
      "cell_type": "markdown",
      "source": [
        "## データセットのダウンロード\n",
        "\n",
        "今回のデータセットには1枚の画像に複数個のラベルが付与されたデータセットです．\n",
        "\n",
        "[Multi-label Image Classification Dataset (Kaggle)](https://www.kaggle.com/datasets/meherunnesashraboni/multi-label-image-classification-dataset)"
      ],
      "metadata": {
        "id": "pTMGJiX-zbrO"
      }
    },
    {
      "cell_type": "code",
      "source": [
        "import gdown\n",
        "gdown.download('https://drive.google.com/uc?id=1mOsi95Nj-s6gAlp25PPoRY6hpvwFPgTE', 'multilabel_modified.zip', quiet=False)\n",
        "! unzip -q multilabel_modified.zip"
      ],
      "metadata": {
        "id": "33ZcD5gkzb6U"
      },
      "execution_count": null,
      "outputs": []
    },
    {
      "cell_type": "markdown",
      "source": [
        "### ダウンロードしたデータセットの確認\n",
        "\n",
        "ダウンロードしたデータセットのフォルダ内には，画像が格納されたimagesフォルダとlabelファイルのCSVファイルがあります．\n",
        "\n",
        "このうち，labels.csvを開いて中身を確認してみます．\n",
        "\n",
        "ファイルには，画像ファイル名，対応するクラス名，01で表現された各クラスに対するラベルが格納されいています．\n",
        "\n",
        "存在するクラスはtruck, boat, busなどの計16種類です．"
      ],
      "metadata": {
        "id": "dgXWLZb9QGz8"
      }
    },
    {
      "cell_type": "code",
      "source": [
        "with open('multilabel_modified/labels.csv', 'r') as f:\n",
        "    reader = csv.reader(f)\n",
        "    for i, row in enumerate(reader):\n",
        "        print(row)\n",
        "        if i !=0:\n",
        "            print(list(map(int, row[2:])))\n",
        "        if i > 5:\n",
        "            break"
      ],
      "metadata": {
        "id": "ToBpFDmhQG6c"
      },
      "execution_count": null,
      "outputs": []
    },
    {
      "cell_type": "markdown",
      "source": [
        "## データセットクラスの作成\n",
        "\n",
        "上で確認したデータを元にPyTorch用のデータセットクラスを作成します．\n",
        "\n",
        "csvファイルには8000サンプル以上の情報が格納されていますが，ここで使用するサンプルは7843枚となっているため，`__len__`の数を明示的に指定しています．"
      ],
      "metadata": {
        "id": "RxM4iSKWRdNM"
      }
    },
    {
      "cell_type": "code",
      "source": [
        "class MultilabelDataset(torch.utils.data.Dataset):\n",
        "    def __init__(self, csv_file, root_dir):\n",
        "        self.root_dir = root_dir\n",
        "        self.data = []\n",
        "        self.label = []\n",
        "        self.trans = transforms.Compose([\n",
        "            transforms.Resize((224, 224)),\n",
        "            transforms.ToTensor(),\n",
        "            transforms.Normalize((0.5, 0.5, 0.5), (0.5, 0.5, 0.5))\n",
        "        ])\n",
        "        with open(csv_file, 'r') as f:\n",
        "            reader = csv.reader(f)\n",
        "            next(reader) # headerをスキップ\n",
        "            for row in reader:\n",
        "                self.data.append(row[0])\n",
        "                self.label.append(list(map(int, row[2:])))\n",
        "\n",
        "    def __getitem__(self, index):\n",
        "        img_path = os.path.join(self.root_dir, self.data[index])\n",
        "        img = Image.open(img_path)\n",
        "        img = self.trans(img)\n",
        "        label = torch.tensor(self.label[index])\n",
        "        return img, label\n",
        "\n",
        "    def __len__(self):\n",
        "        return 7843"
      ],
      "metadata": {
        "id": "db6QNrlxQ_6g"
      },
      "execution_count": null,
      "outputs": []
    },
    {
      "cell_type": "markdown",
      "source": [
        "## ネットワークの作成\n",
        "\n",
        "畳み込みニューラルネットワークを作成します．"
      ],
      "metadata": {
        "id": "UoYG0abcTN0L"
      }
    },
    {
      "cell_type": "code",
      "source": [
        "class MultilabelCNN(nn.Module):\n",
        "    def __init__(self, n_classes=16):\n",
        "        super(MultilabelCNN, self).__init__()\n",
        "        self.conv1 = nn.Conv2d(3, 16, 3, padding=1)\n",
        "        self.conv2 = nn.Conv2d(16, 32, 3, padding=1)\n",
        "        self.conv3 = nn.Conv2d(32, 64, 3, padding=1)\n",
        "        self.pool = nn.MaxPool2d(2, 2)\n",
        "        self.fc1 = nn.Linear(64 * 28 * 28, 512)\n",
        "        self.fc2 = nn.Linear(512, n_classes)\n",
        "        self.relu = nn.ReLU()\n",
        "\n",
        "    def forward(self, x):\n",
        "        x = self.pool(self.relu(self.conv1(x)))\n",
        "        x = self.pool(self.relu(self.conv2(x)))\n",
        "        x = self.pool(self.relu(self.conv3(x)))\n",
        "        x = x.view(-1, 64 * 28 * 28)\n",
        "        x = self.relu(self.fc1(x))\n",
        "        x = self.fc2(x)\n",
        "        return x"
      ],
      "metadata": {
        "id": "eZDpggPaTOIu"
      },
      "execution_count": null,
      "outputs": []
    },
    {
      "cell_type": "markdown",
      "source": [
        "## 学習\n",
        "\n",
        "作成したデータセットを使用してネットワークモデルを学習します．"
      ],
      "metadata": {
        "id": "oza-BPYJUXHi"
      }
    },
    {
      "cell_type": "code",
      "source": [
        "# デバイスの設定\n",
        "device = torch.device('cuda' if torch.cuda.is_available() else 'cpu')\n",
        "\n",
        "# データセットの作成\n",
        "train_dataset = MultilabelDataset('multilabel_modified/labels.csv', 'multilabel_modified/images')\n",
        "train_loader = torch.utils.data.DataLoader(train_dataset, batch_size=32, shuffle=True)\n",
        "\n",
        "# モデルの作成\n",
        "model = MultilabelCNN().to(device)\n",
        "\n",
        "# 損失関数とオプティマイザ\n",
        "criterion = nn.BCEWithLogitsLoss()\n",
        "optimizer = torch.optim.Adam(model.parameters(), lr=0.001)\n",
        "\n",
        "# 学習\n",
        "num_epochs = 10\n",
        "for epoch in range(num_epochs):\n",
        "    for i, (images, labels) in enumerate(train_loader):\n",
        "        images = images.to(device)\n",
        "        labels = labels.to(device)\n",
        "\n",
        "        # 順伝播\n",
        "        outputs = model(images)\n",
        "        loss = criterion(outputs, labels.float())\n",
        "\n",
        "        # 逆伝播と最適化\n",
        "        optimizer.zero_grad()\n",
        "        loss.backward()\n",
        "        optimizer.step()\n",
        "\n",
        "        if (i+1) % 10 == 0:\n",
        "            print(f'Epoch [{epoch+1}/{num_epochs}], Step [{i+1}/{len(train_loader)}], Loss: {loss.item():.4f}')"
      ],
      "metadata": {
        "id": "G129h5ZKVqr_"
      },
      "execution_count": null,
      "outputs": []
    }
  ]
}