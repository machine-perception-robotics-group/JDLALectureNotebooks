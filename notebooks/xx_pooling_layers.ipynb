{
  "nbformat": 4,
  "nbformat_minor": 0,
  "metadata": {
    "colab": {
      "provenance": [],
      "authorship_tag": "ABX9TyMJoChlqHZqRb40yRa3yNyO",
      "include_colab_link": true
    },
    "kernelspec": {
      "name": "python3",
      "display_name": "Python 3"
    },
    "language_info": {
      "name": "python"
    }
  },
  "cells": [
    {
      "cell_type": "markdown",
      "metadata": {
        "id": "view-in-github",
        "colab_type": "text"
      },
      "source": [
        "<a href=\"https://colab.research.google.com/github/machine-perception-robotics-group/JDLALectureNotebooks/blob/master/notebooks/xx_pooling_layers.ipynb\" target=\"_parent\"><img src=\"https://colab.research.google.com/assets/colab-badge.svg\" alt=\"Open In Colab\"/></a>"
      ]
    },
    {
      "cell_type": "markdown",
      "source": [
        "# 様々なプーリング層\n",
        "\n",
        "---\n",
        "\n",
        "## 目的\n",
        "\n",
        "畳み込みニューラルネットワークにおける様々なプーリング層を使用してその処理内容を理解する．\n",
        "\n",
        "\n",
        "## モジュールのインポート\n",
        "\n",
        "プログラムの実行に必要なモジュールをインポートします．"
      ],
      "metadata": {
        "id": "23rdNJqDWwAR"
      }
    },
    {
      "cell_type": "code",
      "execution_count": null,
      "metadata": {
        "id": "i104VFONWtNg"
      },
      "outputs": [],
      "source": [
        "import torch\n",
        "import torch.nn as nn"
      ]
    },
    {
      "cell_type": "markdown",
      "source": [
        "## プーリング層の定義\n",
        "\n",
        "ここでは，様々な種類の単一のプーリング層（モジュール）を定義します．"
      ],
      "metadata": {
        "id": "bDtDnTZ1XE7v"
      }
    },
    {
      "cell_type": "code",
      "source": [
        "# Max Pooling (2x2)\n",
        "pool_max = nn.MaxPool2d(2, stride=2)\n",
        "\n",
        "# Average Pooling (2x2)\n",
        "pool_avg = nn.AvgPool2d(2, stride=2)\n",
        "\n",
        "# L2 Pooling (2x2)\n",
        "pool_l2 = nn.LPPool2d(2, 2, stride=2)\n",
        "\n",
        "# Adaptive Pooling (Global Average Pooling)\n",
        "pool_gap = nn.AdaptiveAvgPool2d(1)"
      ],
      "metadata": {
        "id": "3ARif4XpXQlp"
      },
      "execution_count": null,
      "outputs": []
    },
    {
      "cell_type": "markdown",
      "source": [
        "## プーリング処理の実行\n",
        "\n",
        "上で定義したプーリング層を使用して，その効果を確認してみます．"
      ],
      "metadata": {
        "id": "XFpUqk1hXE_k"
      }
    },
    {
      "cell_type": "code",
      "source": [
        "x = torch.randn(1, 1, 4, 4)\n",
        "print(\"input:\", x)\n",
        "\n",
        "h_max = pool_max(x)\n",
        "print(\"Max Pooling:\", h_max)\n",
        "\n",
        "h_avg = pool_avg(x)\n",
        "print(\"Average Pooling:\", h_avg)\n",
        "\n",
        "h_l2 = pool_l2(x)\n",
        "print(\"L2 Pooling:\", h_l2)\n",
        "\n",
        "h_gap = pool_gap(x)\n",
        "print(\"Global Average Pooling:\", h_gap)"
      ],
      "metadata": {
        "id": "xvNioqYyXD60"
      },
      "execution_count": null,
      "outputs": []
    }
  ]
}