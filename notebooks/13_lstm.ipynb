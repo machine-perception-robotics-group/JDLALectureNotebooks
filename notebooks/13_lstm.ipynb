{
  "cells": [
    {
      "cell_type": "markdown",
      "metadata": {
        "id": "m7t_y6Iwl_4x"
      },
      "source": [
        "# 回帰結合型のニューラルネットワーク（LSTM）による電力予測\n",
        "---\n",
        "\n",
        "## 目的\n",
        "Long Short-Term Memory (LSTM) を用いて，電力予測の実験を行なう．\n",
        "\n",
        "\n",
        "## 対応するチャプター\n",
        "* 10.2: 回帰結合型ネットワークにおける勾配計算（BPTT）\n",
        "* 10.10.1: LSTM\n",
        "* 10.11: 勾配のクリッピング\n",
        "\n",
        "\n",
        "## モジュールのインポート\n",
        "プログラムの実行に必要なモジュールをインポートします．"
      ]
    },
    {
      "cell_type": "code",
      "execution_count": null,
      "metadata": {
        "id": "wr7Xxb7Hl_4y"
      },
      "outputs": [],
      "source": [
        "import numpy as np\n",
        "import matplotlib.pyplot as plt\n",
        "%matplotlib inline"
      ]
    },
    {
      "cell_type": "markdown",
      "metadata": {
        "id": "DmbTz3aAl_4y"
      },
      "source": [
        "## データのダウンロード\n",
        "プログラムの動作に必要なデータをダウンロードし，zipファイルを解凍します．"
      ]
    },
    {
      "cell_type": "code",
      "execution_count": null,
      "metadata": {
        "id": "B7C60n6Ll_4z"
      },
      "outputs": [],
      "source": [
        "import gdown\n",
        "gdown.download('https://drive.google.com/uc?id=1oMM1Xu2-hIe4Of2mfznvBNGCQIe54O1f', 'BEMS_data.zip', quiet=False)\n",
        "!unzip -q -o BEMS_data.zip\n",
        "!mv BEMS_data data\n",
        "!ls -R ./data"
      ]
    },
    {
      "cell_type": "markdown",
      "metadata": {
        "id": "byjfSK0Ml_4z"
      },
      "source": [
        "## データの読み込み\n",
        "読み込んだデータを変換します．\n",
        "ここで，delayは何時刻先の電力値を教師信号にするかを決定するためのパラメータです．\n",
        "delay=1と設定した場合，ネットワークへ入力したデータの1時刻先の電力が正解ラベルとなります．\n",
        "\n",
        "データのサイズを確認します．\n",
        "ネットワークへの入力データサイズは34となっており，時刻や曜日などの情報を表現したデータとなっています，出力の値は対応する電力値の1つとなっています．"
      ]
    },
    {
      "cell_type": "code",
      "execution_count": null,
      "metadata": {
        "id": "keLXxI2nl_4z"
      },
      "outputs": [],
      "source": [
        "# データの読み込み\n",
        "train_x = np.load('./data/train/BEMS_RNN_train_data.npy')\n",
        "train_y = np.load('./data/train/BEMS_RNN_train_labels.npy')\n",
        "test_x  = np.load('./data/test/BEMS_RNN_test_data.npy')\n",
        "test_y = np.load('./data/test/BEMS_RNN_test_labels.npy')\n",
        "\n",
        "# 0~1に収まるように正規化\n",
        "train_x = (train_x - (-0.04)) / (1.3 - (-0.04))\n",
        "train_y = (train_y - (-0.04)) / (1.3 - (-0.04))\n",
        "test_x = (test_x - (-0.04)) / (1.3 - (-0.04))\n",
        "test_y = (test_y - (-0.04)) / (1.3 - (-0.04))\n",
        "\n",
        "# 数時刻先の電力が正解データになるように変換\n",
        "delay = 1\n",
        "train_x = np.asarray(train_x[ : -delay])\n",
        "train_y = np.asarray(train_y[delay : ])\n",
        "test_x = np.asarray(test_x[ : -delay])\n",
        "test_y = np.asarray(test_y[delay : ])\n",
        "\n",
        "# データのサイズ確認\n",
        "train_y = train_y.reshape(len(train_y), 1)\n",
        "test_y = test_y.reshape(len(test_y), 1)\n",
        "print(train_x.shape, train_y.shape)\n",
        "print(test_x.shape, test_y.shape)"
      ]
    },
    {
      "cell_type": "markdown",
      "metadata": {
        "id": "hMlg1Ggtl_4z"
      },
      "source": [
        "## ネットワークモデルの定義\n",
        "次にネットワーク（LSTM）を定義します．\n",
        "\n",
        "まずはじめに，ネットワークの定義に必要な関数を定義します．"
      ]
    },
    {
      "cell_type": "code",
      "execution_count": null,
      "metadata": {
        "id": "uIwo8k_ul_4z"
      },
      "outputs": [],
      "source": [
        "def sigmoid(x):\n",
        "    return 1 / (1 + np.exp(-x))\n",
        "\n",
        "def sigmoid_grad(x):\n",
        "#     return (1.0 - sigmoid(x)) * sigmoid(x)\n",
        "    return (1.0 - x) * x\n",
        "\n",
        "def tanh(x):\n",
        "    return np.tanh(x)\n",
        "\n",
        "def tanh_grad(x):\n",
        "#     return 1.0 - np.tanh(x) * np.tanh(x)\n",
        "    return 1.0 - x**2\n",
        "\n",
        "def fc(x, w, b):\n",
        "    return np.dot(w, x) + b\n",
        "\n",
        "def fc_grad(dout, x, w, b):\n",
        "    dx = np.dot(dout, w.T)\n",
        "    d_w = np.dot(x.T, dout)\n",
        "    d_b = np.sum(dout, axis=0)\n",
        "    return dx, d_w, d_b\n",
        "\n",
        "def mean_squared_error(pred, true):\n",
        "    return np.sum(np.power(pred - true, 2))"
      ]
    },
    {
      "cell_type": "markdown",
      "metadata": {
        "id": "9i4I-jNIl_4z"
      },
      "source": [
        "次に，上で定義した関数を用いてネットワークを定義します．\n",
        "ここでは，LSTM層，出力層から構成されるネットワークとします．\n",
        "\n",
        "入力層と中間層，出力層のユニット数は引数として与え，それぞれ`n_input`，`n_hidden`, `n_out`とします．\n",
        "そして，`__init__`関数を用いて，ネットワークのパラメータを初期化します．\n",
        "下記のプログラムのうち，`w_i`から`b_o`はLSTMが持つパラメータを表しています．\n",
        "`w`と`b`はそれぞれ出力層の重みとバイアスを表しています．\n",
        "重みは`randn`関数で，標準正規分布に従った乱数で生成した値を保有する配列を生成します．\n",
        "バイアスは`zeros`関数を用いて，要素が全て0の配列を生成します．\n",
        "\n",
        "そして，`forward`関数で，データを入力して結果を出力するための演算を定義します．\n",
        "\n",
        "次に，`backward`関数ではパラメータの更新量を計算します．\n",
        "まず，ネットワークの出力結果と教師ラベルから，誤差`dy`を算出します．\n",
        "この時，教師ラベルをone-hotベクトルへ変換し，各ユニットの出力との差を取ることで，`dy`を計算しています．\n",
        "その後，連鎖律に基づいて，出力層から順番に勾配を計算していきます．\n",
        "このとき，パラメータの更新量を`self.grads`へ保存しておきます．\n",
        "また，LSTMでは時刻間で隠れ層とセル状態に対する勾配を伝播する必要があるため，\n",
        "`backward`の引数として，1時刻先からの勾配情報を受け取り，前の時刻へ渡す勾配情報を返すようにしています．\n",
        "\n",
        "最後に`update_parameters`関数で，更新量をもとにパラメータの更新を行います．\n",
        "\n",
        "また，各時刻で求めた勾配を累積する必要があるため，`clear_grads`関数で，各パラメータの勾配情報を初期化する関数を定義し，学習時に使用します．\n",
        "\n",
        "`clip_gradients`関数は，獲得した勾配を指定した範囲に収める関数です．\n",
        "LSTMでは，各時刻の勾配を累積するため，勾配量が大きくなり勾配消失や爆発が起きる可能性があります．\n",
        "ここでは，指定した範囲内に勾配を調整し，パラメータを更新することで，消失や爆発を抑制します．"
      ]
    },
    {
      "cell_type": "code",
      "execution_count": null,
      "metadata": {
        "id": "F9hiNZtpl_40"
      },
      "outputs": [],
      "source": [
        "class LSTM:\n",
        "\n",
        "    def __init__(self, n_input, n_hidden, n_out, w_std=0.01):\n",
        "        self.n_hidden = n_hidden\n",
        "\n",
        "        # LSTM params\n",
        "        self.w_i = np.random.randn(n_input, n_hidden) * w_std\n",
        "        self.u_i = np.random.randn(n_hidden, n_hidden) * w_std\n",
        "        self.b_i = np.zeros(n_hidden)\n",
        "\n",
        "        self.w_f = np.random.randn(n_input, n_hidden) * w_std\n",
        "        self.u_f = np.random.randn(n_hidden, n_hidden) * w_std\n",
        "        self.b_f = np.zeros(n_hidden)\n",
        "\n",
        "        self.w_c = np.random.randn(n_input, n_hidden) * w_std\n",
        "        self.u_c = np.random.randn(n_hidden, n_hidden) * w_std\n",
        "        self.b_c = np.zeros(n_hidden)\n",
        "\n",
        "        self.w_o = np.random.randn(n_input, n_hidden) * w_std\n",
        "        self.u_o = np.random.randn(n_hidden, n_hidden) * w_std\n",
        "        self.b_o = np.zeros(n_hidden)\n",
        "\n",
        "        # output layer\n",
        "        self.w = np.random.randn(n_hidden, n_out) * w_std\n",
        "        self.b = np.zeros(n_out)\n",
        "\n",
        "        self.grads = {}\n",
        "        self.clear_grads()\n",
        "\n",
        "    def forward(self, x, h_prev, c_prev):\n",
        "        # forget gate\n",
        "        self.f = sigmoid( np.dot(x, self.w_f) + np.dot(h_prev, self.u_f) + self.b_f )\n",
        "\n",
        "        # input gate\n",
        "        self.i = sigmoid( np.dot(x, self.w_i) + np.dot(h_prev, self.u_i) + self.b_i )\n",
        "\n",
        "        # cell state (c_bar)\n",
        "        self.c_bar = tanh( np.dot(x, self.w_c) + np.dot(h_prev, self.u_c) + self.b_c )\n",
        "\n",
        "        # cell state (c)\n",
        "        self.c = np.multiply(self.f, c_prev) + np.multiply(self.i, self.c_bar)\n",
        "\n",
        "        # output gate\n",
        "        self.o = sigmoid( np.dot(x, self.w_o) + np.dot(h_prev, self.u_o) + self.b_o )\n",
        "\n",
        "        # hidden state\n",
        "        self.h = np.multiply(self.o, tanh(self.c))\n",
        "\n",
        "        # output\n",
        "        self.y = np.dot(self.h, self.w) + self.b\n",
        "\n",
        "        variables = {'x': x, 'h_prev': h_prev, 'c_prev': c_prev, 'f': self.f, 'i': self.i,\n",
        "                     'c_bar': self.c_bar, 'c': self.c, 'o': self.o, 'h': self.h, 'y': self.y}\n",
        "\n",
        "        return variables, self.h, self.c\n",
        "\n",
        "    def backward(self, in_var, t, d_h_next, d_c_next):\n",
        "        batch_size = in_var['x'].shape[0]\n",
        "        y = sigmoid(in_var['y'])\n",
        "\n",
        "        # output (MSE, sigmoid)\n",
        "        dy = (t - y) / batch_size\n",
        "        d_out = sigmoid_grad(y) * dy\n",
        "\n",
        "        # output layer\n",
        "        self.grads['w'] += np.dot(in_var['h'].T, d_out)\n",
        "        self.grads['b'] += np.sum(d_out, axis=0)\n",
        "\n",
        "        d_h = np.dot(d_out, self.w.T) + d_h_next\n",
        "        d_o = d_h * tanh_grad(in_var['c'])\n",
        "        d_o = sigmoid_grad(in_var['o']) * d_o\n",
        "\n",
        "        # output gate\n",
        "        self.grads['w_o'] += np.dot(in_var['x'].T, d_o)\n",
        "        self.grads['u_o'] += np.dot(in_var['h_prev'].T, d_o)\n",
        "        self.grads['b_o'] += np.sum(d_o, axis=0)\n",
        "\n",
        "        d_c = np.copy(d_c_next)\n",
        "        d_c += d_h * in_var['o'] * tanh_grad(tanh(in_var['c']))\n",
        "        d_c_bar = d_c * in_var['i']\n",
        "        d_c_bar = tanh_grad(in_var['c_bar']) * d_c_bar\n",
        "\n",
        "        # cell state\n",
        "        self.grads['w_c'] += np.dot(in_var['x'].T, d_c_bar)\n",
        "        self.grads['u_c'] += np.dot(in_var['h_prev'].T, d_c_bar)\n",
        "        self.grads['b_c'] += np.sum(d_c_bar, axis=0)\n",
        "\n",
        "        d_i = d_c * in_var['c_bar']\n",
        "        d_i = sigmoid_grad(in_var['i']) * d_i\n",
        "\n",
        "        # input gate\n",
        "        self.grads['w_i'] += np.dot(in_var['x'].T, d_i)\n",
        "        self.grads['u_i'] += np.dot(in_var['h_prev'].T, d_i)\n",
        "        self.grads['b_i'] += np.sum(d_i, axis=0)\n",
        "\n",
        "        # forget gate\n",
        "        d_f = d_c * in_var['c_prev']\n",
        "        d_f = sigmoid_grad(in_var['f']) * d_f\n",
        "        self.grads['w_f'] += np.dot(in_var['x'].T, d_f)\n",
        "        self.grads['u_f'] += np.dot(in_var['h_prev'].T, d_f)\n",
        "        self.grads['b_f'] += np.sum(d_f, axis=0)\n",
        "\n",
        "        d_c_prev = in_var['f'] * d_c\n",
        "        d_h_prev = np.dot(d_f, self.u_f.T) + np.dot(d_i, self.u_i.T) + np.dot(d_c_bar, self.u_c.T) + np.dot(d_o, self.u_o.T)\n",
        "\n",
        "        return d_h_prev, d_c_prev\n",
        "\n",
        "    def update_parameters(self, lr=0.01):\n",
        "        self.w_i += lr * self.grads['w_i']\n",
        "        self.u_i += lr * self.grads['u_i']\n",
        "        self.b_i += lr * self.grads['b_i']\n",
        "        self.w_f += lr * self.grads['w_f']\n",
        "        self.u_f += lr * self.grads['u_f']\n",
        "        self.b_f += lr * self.grads['b_f']\n",
        "        self.w_c += lr * self.grads['w_c']\n",
        "        self.u_c += lr * self.grads['u_c']\n",
        "        self.b_c += lr * self.grads['b_c']\n",
        "        self.w_o += lr * self.grads['w_o']\n",
        "        self.u_o += lr * self.grads['u_o']\n",
        "        self.b_o += lr * self.grads['b_o']\n",
        "        self.w   += lr * self.grads['w']\n",
        "        self.b   += lr * self.grads['b']\n",
        "\n",
        "    def clear_grads(self):\n",
        "        self.grads = {'w_i': np.zeros(self.w_i.shape), 'u_i': np.zeros(self.u_i.shape), 'b_i': np.zeros(self.b_i.shape),\n",
        "                      'w_f': np.zeros(self.w_f.shape), 'u_f': np.zeros(self.u_f.shape), 'b_f': np.zeros(self.b_f.shape),\n",
        "                      'w_c': np.zeros(self.w_c.shape), 'u_c': np.zeros(self.u_c.shape), 'b_c': np.zeros(self.b_c.shape),\n",
        "                      'w_o': np.zeros(self.w_o.shape), 'u_o': np.zeros(self.u_o.shape), 'b_o': np.zeros(self.b_o.shape),\n",
        "                      'w': np.zeros(self.w.shape), 'b': np.zeros(self.b.shape)}\n",
        "\n",
        "    def clip_gradients(self, clip_val=1.0):\n",
        "        for k in self.grads.keys():\n",
        "            self.grads[k] = np.clip(self.grads[k], -clip_val, clip_val)"
      ]
    },
    {
      "cell_type": "markdown",
      "metadata": {
        "id": "WHaN0GkNl_40"
      },
      "source": [
        "## 学習データの変換\n",
        "\n",
        "上で読み込んだ学習・テストデータは電力の推移を表した１つの時系列データとなっているため，この一つの時系列データから，短い時間間隔で区切ったデータを作成することで，学習データの作成を行います．\n",
        "\n",
        "まず，time_windowで1サンプルの時間窓を決定します．\n",
        "今回は10時刻で1サンプルと設定します．\n",
        "その後，指定した時間窓でサンプルを抽出し，convert_train_x, とconvert_train_yへと保存することで，学習データを作成します．"
      ]
    },
    {
      "cell_type": "code",
      "execution_count": null,
      "metadata": {
        "id": "tpAI1_1il_40"
      },
      "outputs": [],
      "source": [
        "time_window = 10\n",
        "\n",
        "convert_train_x = []\n",
        "convert_train_y = []\n",
        "for idx_frame in range(len(train_x) - time_window):\n",
        "    partial_data = train_x[idx_frame:idx_frame + time_window]\n",
        "    partial_label = train_y[idx_frame:idx_frame + time_window]\n",
        "\n",
        "    convert_train_x.append(partial_data)\n",
        "    convert_train_y.append(partial_label)\n",
        "\n",
        "convert_train_x = np.asarray(convert_train_x)\n",
        "convert_train_y = np.asarray(convert_train_y)\n",
        "\n",
        "print(convert_train_x.shape, convert_train_y.shape)"
      ]
    },
    {
      "cell_type": "markdown",
      "metadata": {
        "id": "fYRiSiAjl_40"
      },
      "source": [
        "## ネットワークの作成と学習の準備\n",
        "上で定義したネットワークを作成します．"
      ]
    },
    {
      "cell_type": "code",
      "execution_count": null,
      "metadata": {
        "id": "Q84MaYQ1l_40"
      },
      "outputs": [],
      "source": [
        "n_in = 34\n",
        "n_hidden = 128\n",
        "n_out = 1\n",
        "\n",
        "model = LSTM(n_in, n_hidden, n_out)"
      ]
    },
    {
      "cell_type": "markdown",
      "metadata": {
        "id": "xZk5BQ-Nl_40"
      },
      "source": [
        "## 学習\n",
        "学習を行います．\n",
        "\n",
        "1回の誤差を算出するデータ数（ミニバッチサイズ）を100，学習エポック数を10とします．\n",
        "\n",
        "学習データは毎回ランダムに決定するため，numpyの`permutation`という関数を利用します．\n",
        "各更新において，学習用データと教師データをそれぞれ`x_batch`と`y_batch`とします．\n",
        "\n",
        "まず，LSTMに用いる，隠れ状態`h`およびセル状態`c`を初期化します．\n",
        "\n",
        "その後，`x_batch`に含まれる各時刻の入力データを順次LSTMへと入力します．\n",
        "この時，勾配計算のために，各時刻の出力を保存しておきます．\n",
        "\n",
        "その後，`backward`関数を用いて勾配を計算します．\n",
        "まず，1時刻先の勾配として`d_h_next`, `d_c_next`を初期化します．\n",
        "そして，勾配を計算する前に，`clear_grads`関数を用いて，累積する勾配情報を初期化します．\n",
        "その後，入力とは逆の順番にデータを取得し，backward関数を適用します．\n",
        "\n",
        "勾配の爆発を防ぐために，`clip_gradients`を用いて，一定量に収め，`update_parameters`でパラメータを更新します．"
      ]
    },
    {
      "cell_type": "code",
      "execution_count": null,
      "metadata": {
        "id": "hTNmQPrVl_40"
      },
      "outputs": [],
      "source": [
        "train_data_num = convert_train_x.shape[0]\n",
        "batch_size = 100\n",
        "epoch_num = 10\n",
        "\n",
        "iteration = 1\n",
        "for epoch in range(1, epoch_num + 1):\n",
        "\n",
        "    sum_accuracy = 0.0\n",
        "    sum_loss = 0.0\n",
        "\n",
        "    perm = np.random.permutation(train_data_num)\n",
        "    for i in range(0, train_data_num, batch_size):\n",
        "        x_batch = convert_train_x[perm[i:i+batch_size]]\n",
        "        y_batch = convert_train_y[perm[i:i+batch_size]]\n",
        "\n",
        "        # forward\n",
        "        h = np.zeros((x_batch.shape[0], n_hidden))\n",
        "        c = np.zeros((x_batch.shape[0], n_hidden))\n",
        "\n",
        "        var_list = []\n",
        "        loss_tmp = 0.0\n",
        "        for i in range(time_window):\n",
        "            var_tmp, h, c = model.forward(x_batch[:, i, :], h, c)\n",
        "            loss_tmp += mean_squared_error(sigmoid(var_tmp['y']), y_batch[:, i, :])\n",
        "            var_list.append(var_tmp)\n",
        "\n",
        "        sum_loss  += loss_tmp / time_window\n",
        "\n",
        "        # backward\n",
        "        d_h_next = np.zeros_like(h)\n",
        "        d_c_next = np.zeros_like(c)\n",
        "\n",
        "        model.clear_grads()\n",
        "        for i, var_tmp in enumerate(reversed(var_list)):\n",
        "            d_h_next, d_c_next = model.backward(var_tmp, y_batch[:, time_window - i - 1, :], d_h_next, d_c_next)\n",
        "\n",
        "        model.clip_gradients(clip_val=3.0)\n",
        "        model.update_parameters(lr=0.05)\n",
        "\n",
        "        if iteration % 100 == 0:\n",
        "            print(\"iteration: {}, loss: {}\".format(iteration, loss_tmp / time_window / x_batch.shape[0]))\n",
        "\n",
        "        iteration += 1\n",
        "\n",
        "    print(\"epoch: {}, mean loss: {}\".format(epoch, sum_loss / train_data_num))"
      ]
    },
    {
      "cell_type": "markdown",
      "metadata": {
        "id": "AsGhIwpml_40"
      },
      "source": [
        "## テスト\n",
        "学習したネットワークを用いて，テストデータに対する出力結果の確認を行います．"
      ]
    },
    {
      "cell_type": "code",
      "execution_count": null,
      "metadata": {
        "id": "xVGdy7K8l_40"
      },
      "outputs": [],
      "source": [
        "convert_test_x = test_x.reshape(1, 9999, 34)\n",
        "convert_test_y = test_y.reshape(1, 9999, 1)\n",
        "\n",
        "h = np.zeros((convert_test_x.shape[0], n_hidden))\n",
        "c = np.zeros((convert_test_x.shape[0], n_hidden))\n",
        "\n",
        "result = []\n",
        "for i in range(convert_test_x.shape[1]):\n",
        "    var_tmp, h, c = model.forward(convert_test_x[:, i, :], h, c)\n",
        "    result.append(sigmoid(var_tmp['y']))\n",
        "\n",
        "prediction_result = np.array(result).flatten()\n",
        "\n",
        "plt.figure()\n",
        "plt.plot(test_y.tolist(), color='red', label='true')\n",
        "plt.plot(prediction_result.tolist(), color='blue', label='pred')\n",
        "plt.legend()\n",
        "plt.show()"
      ]
    },
    {
      "cell_type": "code",
      "execution_count": null,
      "metadata": {
        "id": "5rpXeLHLl_40"
      },
      "outputs": [],
      "source": []
    }
  ],
  "metadata": {
    "kernelspec": {
      "display_name": "Python 3",
      "language": "python",
      "name": "python3"
    },
    "language_info": {
      "codemirror_mode": {
        "name": "ipython",
        "version": 3
      },
      "file_extension": ".py",
      "mimetype": "text/x-python",
      "name": "python",
      "nbconvert_exporter": "python",
      "pygments_lexer": "ipython3",
      "version": "3.7.9"
    },
    "colab": {
      "provenance": []
    }
  },
  "nbformat": 4,
  "nbformat_minor": 0
}